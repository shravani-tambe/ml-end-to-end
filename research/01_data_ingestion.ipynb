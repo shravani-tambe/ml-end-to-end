{
 "cells": [
  {
   "cell_type": "code",
   "execution_count": 1,
   "metadata": {},
   "outputs": [],
   "source": [
    "import os"
   ]
  },
  {
   "cell_type": "code",
   "execution_count": 2,
   "metadata": {},
   "outputs": [
    {
     "data": {
      "text/plain": [
       "'c:\\\\Users\\\\LENOVO\\\\OneDrive\\\\Computer Engineering\\\\Programming\\\\Machine Learning\\\\ml-end-to-end\\\\research'"
      ]
     },
     "execution_count": 2,
     "metadata": {},
     "output_type": "execute_result"
    }
   ],
   "source": [
    " %pwd"
   ]
  },
  {
   "cell_type": "code",
   "execution_count": 3,
   "metadata": {},
   "outputs": [
    {
     "data": {
      "text/plain": [
       "'c:\\\\Users\\\\LENOVO\\\\OneDrive\\\\Computer Engineering\\\\Programming\\\\Machine Learning\\\\ml-end-to-end'"
      ]
     },
     "execution_count": 3,
     "metadata": {},
     "output_type": "execute_result"
    }
   ],
   "source": [
    "os.chdir(\"../\")\n",
    "%pwd"
   ]
  },
  {
   "cell_type": "code",
   "execution_count": 4,
   "metadata": {},
   "outputs": [],
   "source": [
    "from dataclasses import dataclass \n",
    "from pathlib import Path \n",
    "\n",
    "@dataclass(frozen=True) #frozen=True -> no other inputs\n",
    "class DataIngestionConfig: \n",
    "    root_dir: Path \n",
    "    source_URL: str\n",
    "    local_data_file: Path \n",
    "    unzip_dir: Path "
   ]
  },
  {
   "cell_type": "code",
   "execution_count": 7,
   "metadata": {},
   "outputs": [
    {
     "name": "stdout",
     "output_type": "stream",
     "text": [
      "Unexpected exception formatting exception. Falling back to standard exception\n"
     ]
    },
    {
     "name": "stderr",
     "output_type": "stream",
     "text": [
      "Traceback (most recent call last):\n",
      "  File \"c:\\Users\\LENOVO\\OneDrive\\Computer Engineering\\Programming\\Machine Learning\\ml-end-to-end\\.venv\\lib\\site-packages\\IPython\\core\\interactiveshell.py\", line 3579, in run_code\n",
      "    exec(code_obj, self.user_global_ns, self.user_ns)\n",
      "  File \"C:\\Users\\LENOVO\\AppData\\Local\\Temp\\ipykernel_28548\\2587660307.py\", line 1, in <module>\n",
      "    from mlProject.constants import *\n",
      "ModuleNotFoundError: No module named 'mlProject'\n",
      "\n",
      "During handling of the above exception, another exception occurred:\n",
      "\n",
      "Traceback (most recent call last):\n",
      "  File \"c:\\Users\\LENOVO\\OneDrive\\Computer Engineering\\Programming\\Machine Learning\\ml-end-to-end\\.venv\\lib\\site-packages\\IPython\\core\\interactiveshell.py\", line 2170, in showtraceback\n",
      "    stb = self.InteractiveTB.structured_traceback(\n",
      "  File \"c:\\Users\\LENOVO\\OneDrive\\Computer Engineering\\Programming\\Machine Learning\\ml-end-to-end\\.venv\\lib\\site-packages\\IPython\\core\\ultratb.py\", line 1457, in structured_traceback\n",
      "    return FormattedTB.structured_traceback(\n",
      "  File \"c:\\Users\\LENOVO\\OneDrive\\Computer Engineering\\Programming\\Machine Learning\\ml-end-to-end\\.venv\\lib\\site-packages\\IPython\\core\\ultratb.py\", line 1348, in structured_traceback\n",
      "    return VerboseTB.structured_traceback(\n",
      "  File \"c:\\Users\\LENOVO\\OneDrive\\Computer Engineering\\Programming\\Machine Learning\\ml-end-to-end\\.venv\\lib\\site-packages\\IPython\\core\\ultratb.py\", line 1195, in structured_traceback\n",
      "    formatted_exception = self.format_exception_as_a_whole(etype, evalue, etb, number_of_lines_of_context,\n",
      "  File \"c:\\Users\\LENOVO\\OneDrive\\Computer Engineering\\Programming\\Machine Learning\\ml-end-to-end\\.venv\\lib\\site-packages\\IPython\\core\\ultratb.py\", line 1110, in format_exception_as_a_whole\n",
      "    frames.append(self.format_record(record))\n",
      "  File \"c:\\Users\\LENOVO\\OneDrive\\Computer Engineering\\Programming\\Machine Learning\\ml-end-to-end\\.venv\\lib\\site-packages\\IPython\\core\\ultratb.py\", line 992, in format_record\n",
      "    frame_info.lines, Colors, self.has_colors, lvals\n",
      "  File \"c:\\Users\\LENOVO\\OneDrive\\Computer Engineering\\Programming\\Machine Learning\\ml-end-to-end\\.venv\\lib\\site-packages\\IPython\\core\\ultratb.py\", line 804, in lines\n",
      "    return self._sd.lines\n",
      "  File \"c:\\Users\\LENOVO\\OneDrive\\Computer Engineering\\Programming\\Machine Learning\\ml-end-to-end\\.venv\\lib\\site-packages\\stack_data\\utils.py\", line 145, in cached_property_wrapper\n",
      "    value = obj.__dict__[self.func.__name__] = self.func(obj)\n",
      "  File \"c:\\Users\\LENOVO\\OneDrive\\Computer Engineering\\Programming\\Machine Learning\\ml-end-to-end\\.venv\\lib\\site-packages\\stack_data\\core.py\", line 734, in lines\n",
      "    pieces = self.included_pieces\n",
      "  File \"c:\\Users\\LENOVO\\OneDrive\\Computer Engineering\\Programming\\Machine Learning\\ml-end-to-end\\.venv\\lib\\site-packages\\stack_data\\utils.py\", line 145, in cached_property_wrapper\n",
      "    value = obj.__dict__[self.func.__name__] = self.func(obj)\n",
      "  File \"c:\\Users\\LENOVO\\OneDrive\\Computer Engineering\\Programming\\Machine Learning\\ml-end-to-end\\.venv\\lib\\site-packages\\stack_data\\core.py\", line 677, in included_pieces\n",
      "    scope_pieces = self.scope_pieces\n",
      "  File \"c:\\Users\\LENOVO\\OneDrive\\Computer Engineering\\Programming\\Machine Learning\\ml-end-to-end\\.venv\\lib\\site-packages\\stack_data\\utils.py\", line 145, in cached_property_wrapper\n",
      "    value = obj.__dict__[self.func.__name__] = self.func(obj)\n",
      "  File \"c:\\Users\\LENOVO\\OneDrive\\Computer Engineering\\Programming\\Machine Learning\\ml-end-to-end\\.venv\\lib\\site-packages\\stack_data\\core.py\", line 614, in scope_pieces\n",
      "    scope_start, scope_end = self.source.line_range(self.scope)\n",
      "  File \"c:\\Users\\LENOVO\\OneDrive\\Computer Engineering\\Programming\\Machine Learning\\ml-end-to-end\\.venv\\lib\\site-packages\\stack_data\\core.py\", line 178, in line_range\n",
      "    return line_range(self.asttext(), node)\n",
      "AttributeError: 'Source' object has no attribute 'asttext'\n"
     ]
    }
   ],
   "source": [
    "from mlProject.constants import *\n",
    "from mlProject.utils.common import read_yaml, create_directories "
   ]
  },
  {
   "cell_type": "code",
   "execution_count": null,
   "metadata": {},
   "outputs": [],
   "source": []
  }
 ],
 "metadata": {
  "kernelspec": {
   "display_name": ".venv",
   "language": "python",
   "name": "python3"
  },
  "language_info": {
   "codemirror_mode": {
    "name": "ipython",
    "version": 3
   },
   "file_extension": ".py",
   "mimetype": "text/x-python",
   "name": "python",
   "nbconvert_exporter": "python",
   "pygments_lexer": "ipython3",
   "version": "3.10.6"
  }
 },
 "nbformat": 4,
 "nbformat_minor": 2
}
